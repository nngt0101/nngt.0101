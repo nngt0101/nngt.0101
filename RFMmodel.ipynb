{
  "nbformat": 4,
  "nbformat_minor": 0,
  "metadata": {
    "colab": {
      "name": "RFMmodel.ipynb",
      "provenance": [],
      "collapsed_sections": [],
      "authorship_tag": "ABX9TyMvRHJCWXMsq7ODCF/zkiyl",
      "include_colab_link": true
    },
    "kernelspec": {
      "name": "python3",
      "display_name": "Python 3"
    },
    "language_info": {
      "name": "python"
    }
  },
  "cells": [
    {
      "cell_type": "markdown",
      "metadata": {
        "id": "view-in-github",
        "colab_type": "text"
      },
      "source": [
        "<a href=\"https://colab.research.google.com/github/nngt0101/nngt.0101/blob/main/RFMmodel.ipynb\" target=\"_parent\"><img src=\"https://colab.research.google.com/assets/colab-badge.svg\" alt=\"Open In Colab\"/></a>"
      ]
    },
    {
      "cell_type": "code",
      "metadata": {
        "colab": {
          "base_uri": "https://localhost:8080/"
        },
        "id": "TUHHkulZ067Z",
        "outputId": "e4048bb4-8d8a-4e86-b55e-b2ee2677de4d"
      },
      "source": [
        "from google.colab import drive\n",
        "drive.mount('/content/drive')\n",
        "# kết nối với drive"
      ],
      "execution_count": null,
      "outputs": [
        {
          "output_type": "stream",
          "text": [
            "Drive already mounted at /content/drive; to attempt to forcibly remount, call drive.mount(\"/content/drive\", force_remount=True).\n"
          ],
          "name": "stdout"
        }
      ]
    },
    {
      "cell_type": "markdown",
      "metadata": {
        "id": "PLWfW7KkZ717"
      },
      "source": [
        "Nguyễn Ngọc Gia Tuệ K184060768 "
      ]
    },
    {
      "cell_type": "code",
      "metadata": {
        "id": "S3i5kzyC9CkI"
      },
      "source": [
        "# Kết nối với thư viện \n",
        "import pandas as pd\n",
        "import datetime as dt\n",
        "import numpy as np\n",
        "import matplotlib.pyplot as plt"
      ],
      "execution_count": null,
      "outputs": []
    },
    {
      "cell_type": "code",
      "metadata": {
        "id": "0BNm3VQV-mhJ"
      },
      "source": [
        "# Đọc file data csv  từ gg drive\n",
        "df = pd.read_csv('/content/drive/MyDrive/DA_K18406_K184060768_NguyenNgocGiaTue_RFM/Retail_Data_Transactions.csv', parse_dates=['trans_date'])"
      ],
      "execution_count": null,
      "outputs": []
    },
    {
      "cell_type": "code",
      "metadata": {
        "colab": {
          "base_uri": "https://localhost:8080/",
          "height": 142
        },
        "id": "rL_3Wjc4HWyC",
        "outputId": "2f898591-67a1-4a1f-c754-6f8b627ad955"
      },
      "source": [
        "# Show 3 cột đầu của data\n",
        "df.head(3)"
      ],
      "execution_count": null,
      "outputs": [
        {
          "output_type": "execute_result",
          "data": {
            "text/html": [
              "<div>\n",
              "<style scoped>\n",
              "    .dataframe tbody tr th:only-of-type {\n",
              "        vertical-align: middle;\n",
              "    }\n",
              "\n",
              "    .dataframe tbody tr th {\n",
              "        vertical-align: top;\n",
              "    }\n",
              "\n",
              "    .dataframe thead th {\n",
              "        text-align: right;\n",
              "    }\n",
              "</style>\n",
              "<table border=\"1\" class=\"dataframe\">\n",
              "  <thead>\n",
              "    <tr style=\"text-align: right;\">\n",
              "      <th></th>\n",
              "      <th>customer_id</th>\n",
              "      <th>trans_date</th>\n",
              "      <th>tran_amount</th>\n",
              "    </tr>\n",
              "  </thead>\n",
              "  <tbody>\n",
              "    <tr>\n",
              "      <th>0</th>\n",
              "      <td>CS5295</td>\n",
              "      <td>2013-02-11</td>\n",
              "      <td>35</td>\n",
              "    </tr>\n",
              "    <tr>\n",
              "      <th>1</th>\n",
              "      <td>CS4768</td>\n",
              "      <td>2015-03-15</td>\n",
              "      <td>39</td>\n",
              "    </tr>\n",
              "    <tr>\n",
              "      <th>2</th>\n",
              "      <td>CS2122</td>\n",
              "      <td>2013-02-26</td>\n",
              "      <td>52</td>\n",
              "    </tr>\n",
              "  </tbody>\n",
              "</table>\n",
              "</div>"
            ],
            "text/plain": [
              "  customer_id trans_date  tran_amount\n",
              "0      CS5295 2013-02-11           35\n",
              "1      CS4768 2015-03-15           39\n",
              "2      CS2122 2013-02-26           52"
            ]
          },
          "metadata": {
            "tags": []
          },
          "execution_count": 83
        }
      ]
    },
    {
      "cell_type": "code",
      "metadata": {
        "colab": {
          "base_uri": "https://localhost:8080/"
        },
        "id": "wqKfgz3IIrAI",
        "outputId": "d4a1a3ad-cfc4-43ec-de31-a88bf7be8f15"
      },
      "source": [
        "# Show thông tin của data\n",
        "df.info()"
      ],
      "execution_count": null,
      "outputs": [
        {
          "output_type": "stream",
          "text": [
            "<class 'pandas.core.frame.DataFrame'>\n",
            "RangeIndex: 125000 entries, 0 to 124999\n",
            "Data columns (total 3 columns):\n",
            " #   Column       Non-Null Count   Dtype         \n",
            "---  ------       --------------   -----         \n",
            " 0   customer_id  125000 non-null  object        \n",
            " 1   trans_date   125000 non-null  datetime64[ns]\n",
            " 2   tran_amount  125000 non-null  int64         \n",
            "dtypes: datetime64[ns](1), int64(1), object(1)\n",
            "memory usage: 2.9+ MB\n"
          ],
          "name": "stdout"
        }
      ]
    },
    {
      "cell_type": "code",
      "metadata": {
        "colab": {
          "base_uri": "https://localhost:8080/"
        },
        "id": "l9A2tBb8_9UZ",
        "outputId": "26c52c82-90c2-40cd-83b1-19b0a282462e"
      },
      "source": [
        "# thời gian giao dịch từ nhỏ nhất đến lớn nhất \n",
        "print(df['trans_date'].min(), df['trans_date'].max())"
      ],
      "execution_count": null,
      "outputs": [
        {
          "output_type": "stream",
          "text": [
            "2011-05-16 00:00:00 2015-03-16 00:00:00\n"
          ],
          "name": "stdout"
        }
      ]
    },
    {
      "cell_type": "code",
      "metadata": {
        "colab": {
          "base_uri": "https://localhost:8080/",
          "height": 204
        },
        "id": "YDBJn2x2ADu4",
        "outputId": "67913fce-2a61-4d69-f361-5458f619834e"
      },
      "source": [
        "# ngày thực hiện nghiên cứu 1/4/2015 để phù hợp với dữ liệu em tìm ra  , số ngày kể từ ngày thực hiện nghiên cứu \n",
        "sd = dt.datetime(2015,4,1)\n",
        "df['hist']=sd - df['trans_date']\n",
        "df['hist'].astype('timedelta64[D]')\n",
        "df['hist']=df['hist'] / np.timedelta64(1, 'D')\n",
        "df.head()"
      ],
      "execution_count": null,
      "outputs": [
        {
          "output_type": "execute_result",
          "data": {
            "text/html": [
              "<div>\n",
              "<style scoped>\n",
              "    .dataframe tbody tr th:only-of-type {\n",
              "        vertical-align: middle;\n",
              "    }\n",
              "\n",
              "    .dataframe tbody tr th {\n",
              "        vertical-align: top;\n",
              "    }\n",
              "\n",
              "    .dataframe thead th {\n",
              "        text-align: right;\n",
              "    }\n",
              "</style>\n",
              "<table border=\"1\" class=\"dataframe\">\n",
              "  <thead>\n",
              "    <tr style=\"text-align: right;\">\n",
              "      <th></th>\n",
              "      <th>customer_id</th>\n",
              "      <th>trans_date</th>\n",
              "      <th>tran_amount</th>\n",
              "      <th>hist</th>\n",
              "    </tr>\n",
              "  </thead>\n",
              "  <tbody>\n",
              "    <tr>\n",
              "      <th>0</th>\n",
              "      <td>CS5295</td>\n",
              "      <td>2013-02-11</td>\n",
              "      <td>35</td>\n",
              "      <td>779.0</td>\n",
              "    </tr>\n",
              "    <tr>\n",
              "      <th>1</th>\n",
              "      <td>CS4768</td>\n",
              "      <td>2015-03-15</td>\n",
              "      <td>39</td>\n",
              "      <td>17.0</td>\n",
              "    </tr>\n",
              "    <tr>\n",
              "      <th>2</th>\n",
              "      <td>CS2122</td>\n",
              "      <td>2013-02-26</td>\n",
              "      <td>52</td>\n",
              "      <td>764.0</td>\n",
              "    </tr>\n",
              "    <tr>\n",
              "      <th>3</th>\n",
              "      <td>CS1217</td>\n",
              "      <td>2011-11-16</td>\n",
              "      <td>99</td>\n",
              "      <td>1232.0</td>\n",
              "    </tr>\n",
              "    <tr>\n",
              "      <th>4</th>\n",
              "      <td>CS1850</td>\n",
              "      <td>2013-11-20</td>\n",
              "      <td>78</td>\n",
              "      <td>497.0</td>\n",
              "    </tr>\n",
              "  </tbody>\n",
              "</table>\n",
              "</div>"
            ],
            "text/plain": [
              "  customer_id trans_date  tran_amount    hist\n",
              "0      CS5295 2013-02-11           35   779.0\n",
              "1      CS4768 2015-03-15           39    17.0\n",
              "2      CS2122 2013-02-26           52   764.0\n",
              "3      CS1217 2011-11-16           99  1232.0\n",
              "4      CS1850 2013-11-20           78   497.0"
            ]
          },
          "metadata": {
            "tags": []
          },
          "execution_count": 86
        }
      ]
    },
    {
      "cell_type": "code",
      "metadata": {
        "colab": {
          "base_uri": "https://localhost:8080/"
        },
        "id": "S-Mxgzl-Cjxi",
        "outputId": "a54d6146-694a-47f3-fcd8-aef19b887686"
      },
      "source": [
        "# Chỉ có dữ liệu giao dịch thực hiện trong 2 năm (365 ngày x 2 = 730 ) mới có thể phân tích RFM\n",
        "df=df[df['hist'] < 730]\n",
        "df.info()"
      ],
      "execution_count": null,
      "outputs": [
        {
          "output_type": "stream",
          "text": [
            "<class 'pandas.core.frame.DataFrame'>\n",
            "Int64Index: 63633 entries, 1 to 124999\n",
            "Data columns (total 4 columns):\n",
            " #   Column       Non-Null Count  Dtype         \n",
            "---  ------       --------------  -----         \n",
            " 0   customer_id  63633 non-null  object        \n",
            " 1   trans_date   63633 non-null  datetime64[ns]\n",
            " 2   tran_amount  63633 non-null  int64         \n",
            " 3   hist         63633 non-null  float64       \n",
            "dtypes: datetime64[ns](1), float64(1), int64(1), object(1)\n",
            "memory usage: 2.4+ MB\n"
          ],
          "name": "stdout"
        }
      ]
    },
    {
      "cell_type": "code",
      "metadata": {
        "id": "JnR6HBD6AKoj"
      },
      "source": [
        "# Dữ liệu sẽ được tổng hợp ở cấp độ khách hàng bằng cách lấy số ngày cho đến giao dịch cuối cùng(gần nhất), tổng của tổng số tiền giao dịch và tổng số giao dịch\n",
        "rfmTable = df.groupby('customer_id').agg({'hist': lambda x:x.min(),               # Recency lấy nhỏ nhất\n",
        "                                        'customer_id': lambda x: len(x),          # Frequency lấy tần suất mua hàng\n",
        "                                        'tran_amount': lambda x: x.sum()})        # Monetary Value lấy tổng số liền\n",
        "\n",
        "rfmTable.rename(columns={'hist': 'recency', \n",
        "                         'customer_id': 'frequency', \n",
        "                         'tran_amount': 'monetary_value'}, inplace=True) #đổi tên cột "
      ],
      "execution_count": null,
      "outputs": []
    },
    {
      "cell_type": "code",
      "metadata": {
        "colab": {
          "base_uri": "https://localhost:8080/",
          "height": 450
        },
        "id": "8_O2ei9sC7C3",
        "outputId": "975aaafe-8766-47b9-8845-a0cbfedea93d"
      },
      "source": [
        "#Show data hiện tại sau khi đổi tên \n",
        "rfmTable"
      ],
      "execution_count": null,
      "outputs": [
        {
          "output_type": "execute_result",
          "data": {
            "text/html": [
              "<div>\n",
              "<style scoped>\n",
              "    .dataframe tbody tr th:only-of-type {\n",
              "        vertical-align: middle;\n",
              "    }\n",
              "\n",
              "    .dataframe tbody tr th {\n",
              "        vertical-align: top;\n",
              "    }\n",
              "\n",
              "    .dataframe thead th {\n",
              "        text-align: right;\n",
              "    }\n",
              "</style>\n",
              "<table border=\"1\" class=\"dataframe\">\n",
              "  <thead>\n",
              "    <tr style=\"text-align: right;\">\n",
              "      <th></th>\n",
              "      <th>recency</th>\n",
              "      <th>frequency</th>\n",
              "      <th>monetary_value</th>\n",
              "    </tr>\n",
              "    <tr>\n",
              "      <th>customer_id</th>\n",
              "      <th></th>\n",
              "      <th></th>\n",
              "      <th></th>\n",
              "    </tr>\n",
              "  </thead>\n",
              "  <tbody>\n",
              "    <tr>\n",
              "      <th>CS1112</th>\n",
              "      <td>77.0</td>\n",
              "      <td>6</td>\n",
              "      <td>358</td>\n",
              "    </tr>\n",
              "    <tr>\n",
              "      <th>CS1113</th>\n",
              "      <td>51.0</td>\n",
              "      <td>11</td>\n",
              "      <td>775</td>\n",
              "    </tr>\n",
              "    <tr>\n",
              "      <th>CS1114</th>\n",
              "      <td>48.0</td>\n",
              "      <td>11</td>\n",
              "      <td>804</td>\n",
              "    </tr>\n",
              "    <tr>\n",
              "      <th>CS1115</th>\n",
              "      <td>27.0</td>\n",
              "      <td>10</td>\n",
              "      <td>765</td>\n",
              "    </tr>\n",
              "    <tr>\n",
              "      <th>CS1116</th>\n",
              "      <td>219.0</td>\n",
              "      <td>5</td>\n",
              "      <td>333</td>\n",
              "    </tr>\n",
              "    <tr>\n",
              "      <th>...</th>\n",
              "      <td>...</td>\n",
              "      <td>...</td>\n",
              "      <td>...</td>\n",
              "    </tr>\n",
              "    <tr>\n",
              "      <th>CS8996</th>\n",
              "      <td>113.0</td>\n",
              "      <td>7</td>\n",
              "      <td>369</td>\n",
              "    </tr>\n",
              "    <tr>\n",
              "      <th>CS8997</th>\n",
              "      <td>277.0</td>\n",
              "      <td>6</td>\n",
              "      <td>246</td>\n",
              "    </tr>\n",
              "    <tr>\n",
              "      <th>CS8998</th>\n",
              "      <td>100.0</td>\n",
              "      <td>5</td>\n",
              "      <td>205</td>\n",
              "    </tr>\n",
              "    <tr>\n",
              "      <th>CS8999</th>\n",
              "      <td>273.0</td>\n",
              "      <td>4</td>\n",
              "      <td>107</td>\n",
              "    </tr>\n",
              "    <tr>\n",
              "      <th>CS9000</th>\n",
              "      <td>32.0</td>\n",
              "      <td>7</td>\n",
              "      <td>278</td>\n",
              "    </tr>\n",
              "  </tbody>\n",
              "</table>\n",
              "<p>6884 rows × 3 columns</p>\n",
              "</div>"
            ],
            "text/plain": [
              "             recency  frequency  monetary_value\n",
              "customer_id                                    \n",
              "CS1112          77.0          6             358\n",
              "CS1113          51.0         11             775\n",
              "CS1114          48.0         11             804\n",
              "CS1115          27.0         10             765\n",
              "CS1116         219.0          5             333\n",
              "...              ...        ...             ...\n",
              "CS8996         113.0          7             369\n",
              "CS8997         277.0          6             246\n",
              "CS8998         100.0          5             205\n",
              "CS8999         273.0          4             107\n",
              "CS9000          32.0          7             278\n",
              "\n",
              "[6884 rows x 3 columns]"
            ]
          },
          "metadata": {
            "tags": []
          },
          "execution_count": 89
        }
      ]
    },
    {
      "cell_type": "code",
      "metadata": {
        "colab": {
          "base_uri": "https://localhost:8080/"
        },
        "id": "GKOmA5mlAPv7",
        "outputId": "c08b5e08-734a-4699-86a2-0a92ced5fd58"
      },
      "source": [
        "# Tạo 4 danh mục dựa trên các phần tư ( em phân thành 4 nhóm )\n",
        "quartiles = rfmTable.quantile(q=[0.25,0.50,0.75]) \n",
        "print(quartiles, type(quartiles))"
      ],
      "execution_count": null,
      "outputs": [
        {
          "output_type": "stream",
          "text": [
            "      recency  frequency  monetary_value\n",
            "0.25     38.0        7.0           379.0\n",
            "0.50     69.0        9.0           591.0\n",
            "0.75    127.0       11.0           796.0 <class 'pandas.core.frame.DataFrame'>\n"
          ],
          "name": "stdout"
        }
      ]
    },
    {
      "cell_type": "code",
      "metadata": {
        "colab": {
          "base_uri": "https://localhost:8080/"
        },
        "id": "KNGSKjdQAS2x",
        "outputId": "dbe9a2d6-e4cc-4201-e18c-89f7cff63f64"
      },
      "source": [
        "#Chuyển đổi thông tin tứ phân vị thành một từ điển để có thể chọn điểm giới hạn \n",
        "quartiles=quartiles.to_dict()\n",
        "# Show từ điển cho thấy được các giá trị trong R, P, M \n",
        "quartiles"
      ],
      "execution_count": null,
      "outputs": [
        {
          "output_type": "execute_result",
          "data": {
            "text/plain": [
              "{'frequency': {0.25: 7.0, 0.5: 9.0, 0.75: 11.0},\n",
              " 'monetary_value': {0.25: 379.0, 0.5: 591.0, 0.75: 796.0},\n",
              " 'recency': {0.25: 38.0, 0.5: 69.0, 0.75: 127.0}}"
            ]
          },
          "metadata": {
            "tags": []
          },
          "execution_count": 91
        }
      ]
    },
    {
      "cell_type": "code",
      "metadata": {
        "id": "P-_XrvSvAVv8"
      },
      "source": [
        "# Trong trường hợp này , càng thấp càng tốt và do đó hệ thống phân loại của chúng tôi phải được đảo ngược\n",
        "#For Requency \n",
        "def RClass(x,p,d):\n",
        "    if x <= d[p][0.25]:\n",
        "        return 1\n",
        "    elif x <= d[p][0.50]:\n",
        "        return 2\n",
        "    elif x <= d[p][0.75]: \n",
        "        return 3\n",
        "    else:\n",
        "        return 4\n",
        "    \n",
        "## for Frequency and Monetary value \n",
        "\n",
        "def FMClass(x,p,d):\n",
        "    if x <= d[p][0.25]:\n",
        "        return 4\n",
        "    elif x <= d[p][0.50]:\n",
        "        return 3\n",
        "    elif x <= d[p][0.75]: \n",
        "        return 2\n",
        "    else:\n",
        "        return 1\n"
      ],
      "execution_count": null,
      "outputs": []
    },
    {
      "cell_type": "code",
      "metadata": {
        "id": "C9WV-IxIKtoR"
      },
      "source": [
        "rfmSeg = rfmTable\n",
        "rfmSeg['R_Quartile'] = rfmSeg['recency'].apply(RClass, args=('recency',quartiles,))\n",
        "rfmSeg['F_Quartile'] = rfmSeg['frequency'].apply(FMClass, args=('frequency',quartiles,))\n",
        "rfmSeg['M_Quartile'] = rfmSeg['monetary_value'].apply(FMClass, args=('monetary_value',quartiles,))"
      ],
      "execution_count": null,
      "outputs": []
    },
    {
      "cell_type": "code",
      "metadata": {
        "colab": {
          "base_uri": "https://localhost:8080/",
          "height": 450
        },
        "id": "1tKG7n9QESDM",
        "outputId": "6d861655-3128-4879-9080-1cf821a28d95"
      },
      "source": [
        "#Dữ liệu đã được phân ra thành 4 nhóm \n",
        "rfmSeg"
      ],
      "execution_count": null,
      "outputs": [
        {
          "output_type": "execute_result",
          "data": {
            "text/html": [
              "<div>\n",
              "<style scoped>\n",
              "    .dataframe tbody tr th:only-of-type {\n",
              "        vertical-align: middle;\n",
              "    }\n",
              "\n",
              "    .dataframe tbody tr th {\n",
              "        vertical-align: top;\n",
              "    }\n",
              "\n",
              "    .dataframe thead th {\n",
              "        text-align: right;\n",
              "    }\n",
              "</style>\n",
              "<table border=\"1\" class=\"dataframe\">\n",
              "  <thead>\n",
              "    <tr style=\"text-align: right;\">\n",
              "      <th></th>\n",
              "      <th>recency</th>\n",
              "      <th>frequency</th>\n",
              "      <th>monetary_value</th>\n",
              "      <th>R_Quartile</th>\n",
              "      <th>F_Quartile</th>\n",
              "      <th>M_Quartile</th>\n",
              "    </tr>\n",
              "    <tr>\n",
              "      <th>customer_id</th>\n",
              "      <th></th>\n",
              "      <th></th>\n",
              "      <th></th>\n",
              "      <th></th>\n",
              "      <th></th>\n",
              "      <th></th>\n",
              "    </tr>\n",
              "  </thead>\n",
              "  <tbody>\n",
              "    <tr>\n",
              "      <th>CS1112</th>\n",
              "      <td>77.0</td>\n",
              "      <td>6</td>\n",
              "      <td>358</td>\n",
              "      <td>3</td>\n",
              "      <td>4</td>\n",
              "      <td>4</td>\n",
              "    </tr>\n",
              "    <tr>\n",
              "      <th>CS1113</th>\n",
              "      <td>51.0</td>\n",
              "      <td>11</td>\n",
              "      <td>775</td>\n",
              "      <td>2</td>\n",
              "      <td>2</td>\n",
              "      <td>2</td>\n",
              "    </tr>\n",
              "    <tr>\n",
              "      <th>CS1114</th>\n",
              "      <td>48.0</td>\n",
              "      <td>11</td>\n",
              "      <td>804</td>\n",
              "      <td>2</td>\n",
              "      <td>2</td>\n",
              "      <td>1</td>\n",
              "    </tr>\n",
              "    <tr>\n",
              "      <th>CS1115</th>\n",
              "      <td>27.0</td>\n",
              "      <td>10</td>\n",
              "      <td>765</td>\n",
              "      <td>1</td>\n",
              "      <td>2</td>\n",
              "      <td>2</td>\n",
              "    </tr>\n",
              "    <tr>\n",
              "      <th>CS1116</th>\n",
              "      <td>219.0</td>\n",
              "      <td>5</td>\n",
              "      <td>333</td>\n",
              "      <td>4</td>\n",
              "      <td>4</td>\n",
              "      <td>4</td>\n",
              "    </tr>\n",
              "    <tr>\n",
              "      <th>...</th>\n",
              "      <td>...</td>\n",
              "      <td>...</td>\n",
              "      <td>...</td>\n",
              "      <td>...</td>\n",
              "      <td>...</td>\n",
              "      <td>...</td>\n",
              "    </tr>\n",
              "    <tr>\n",
              "      <th>CS8996</th>\n",
              "      <td>113.0</td>\n",
              "      <td>7</td>\n",
              "      <td>369</td>\n",
              "      <td>3</td>\n",
              "      <td>4</td>\n",
              "      <td>4</td>\n",
              "    </tr>\n",
              "    <tr>\n",
              "      <th>CS8997</th>\n",
              "      <td>277.0</td>\n",
              "      <td>6</td>\n",
              "      <td>246</td>\n",
              "      <td>4</td>\n",
              "      <td>4</td>\n",
              "      <td>4</td>\n",
              "    </tr>\n",
              "    <tr>\n",
              "      <th>CS8998</th>\n",
              "      <td>100.0</td>\n",
              "      <td>5</td>\n",
              "      <td>205</td>\n",
              "      <td>3</td>\n",
              "      <td>4</td>\n",
              "      <td>4</td>\n",
              "    </tr>\n",
              "    <tr>\n",
              "      <th>CS8999</th>\n",
              "      <td>273.0</td>\n",
              "      <td>4</td>\n",
              "      <td>107</td>\n",
              "      <td>4</td>\n",
              "      <td>4</td>\n",
              "      <td>4</td>\n",
              "    </tr>\n",
              "    <tr>\n",
              "      <th>CS9000</th>\n",
              "      <td>32.0</td>\n",
              "      <td>7</td>\n",
              "      <td>278</td>\n",
              "      <td>1</td>\n",
              "      <td>4</td>\n",
              "      <td>4</td>\n",
              "    </tr>\n",
              "  </tbody>\n",
              "</table>\n",
              "<p>6884 rows × 6 columns</p>\n",
              "</div>"
            ],
            "text/plain": [
              "             recency  frequency  ...  F_Quartile  M_Quartile\n",
              "customer_id                      ...                        \n",
              "CS1112          77.0          6  ...           4           4\n",
              "CS1113          51.0         11  ...           2           2\n",
              "CS1114          48.0         11  ...           2           1\n",
              "CS1115          27.0         10  ...           2           2\n",
              "CS1116         219.0          5  ...           4           4\n",
              "...              ...        ...  ...         ...         ...\n",
              "CS8996         113.0          7  ...           4           4\n",
              "CS8997         277.0          6  ...           4           4\n",
              "CS8998         100.0          5  ...           4           4\n",
              "CS8999         273.0          4  ...           4           4\n",
              "CS9000          32.0          7  ...           4           4\n",
              "\n",
              "[6884 rows x 6 columns]"
            ]
          },
          "metadata": {
            "tags": []
          },
          "execution_count": 93
        }
      ]
    },
    {
      "cell_type": "code",
      "metadata": {
        "id": "8zegHHCbAbE9"
      },
      "source": [
        "# Cách 1 Để kết hợp các điểm số để tạo ra một sô duy nhất, em  nối các điểm số để tạo ra một số có 3 chữ số từ 111 đến 444 là em sẽ ghép số lại với nhau \n",
        "rfmSeg['RFMClass'] = rfmSeg.R_Quartile.map(str) + rfmSeg.F_Quartile.map(str) + rfmSeg.M_Quartile.map(str)\n"
      ],
      "execution_count": null,
      "outputs": []
    },
    {
      "cell_type": "code",
      "metadata": {
        "colab": {
          "base_uri": "https://localhost:8080/",
          "height": 235
        },
        "id": "--zsRofLKyuE",
        "outputId": "37887940-01c7-413a-a3ae-448e09d6cb34"
      },
      "source": [
        "rfmSeg.head()"
      ],
      "execution_count": null,
      "outputs": [
        {
          "output_type": "execute_result",
          "data": {
            "text/html": [
              "<div>\n",
              "<style scoped>\n",
              "    .dataframe tbody tr th:only-of-type {\n",
              "        vertical-align: middle;\n",
              "    }\n",
              "\n",
              "    .dataframe tbody tr th {\n",
              "        vertical-align: top;\n",
              "    }\n",
              "\n",
              "    .dataframe thead th {\n",
              "        text-align: right;\n",
              "    }\n",
              "</style>\n",
              "<table border=\"1\" class=\"dataframe\">\n",
              "  <thead>\n",
              "    <tr style=\"text-align: right;\">\n",
              "      <th></th>\n",
              "      <th>recency</th>\n",
              "      <th>frequency</th>\n",
              "      <th>monetary_value</th>\n",
              "      <th>R_Quartile</th>\n",
              "      <th>F_Quartile</th>\n",
              "      <th>M_Quartile</th>\n",
              "      <th>RFMClass</th>\n",
              "    </tr>\n",
              "    <tr>\n",
              "      <th>customer_id</th>\n",
              "      <th></th>\n",
              "      <th></th>\n",
              "      <th></th>\n",
              "      <th></th>\n",
              "      <th></th>\n",
              "      <th></th>\n",
              "      <th></th>\n",
              "    </tr>\n",
              "  </thead>\n",
              "  <tbody>\n",
              "    <tr>\n",
              "      <th>CS1112</th>\n",
              "      <td>77.0</td>\n",
              "      <td>6</td>\n",
              "      <td>358</td>\n",
              "      <td>3</td>\n",
              "      <td>4</td>\n",
              "      <td>4</td>\n",
              "      <td>344</td>\n",
              "    </tr>\n",
              "    <tr>\n",
              "      <th>CS1113</th>\n",
              "      <td>51.0</td>\n",
              "      <td>11</td>\n",
              "      <td>775</td>\n",
              "      <td>2</td>\n",
              "      <td>2</td>\n",
              "      <td>2</td>\n",
              "      <td>222</td>\n",
              "    </tr>\n",
              "    <tr>\n",
              "      <th>CS1114</th>\n",
              "      <td>48.0</td>\n",
              "      <td>11</td>\n",
              "      <td>804</td>\n",
              "      <td>2</td>\n",
              "      <td>2</td>\n",
              "      <td>1</td>\n",
              "      <td>221</td>\n",
              "    </tr>\n",
              "    <tr>\n",
              "      <th>CS1115</th>\n",
              "      <td>27.0</td>\n",
              "      <td>10</td>\n",
              "      <td>765</td>\n",
              "      <td>1</td>\n",
              "      <td>2</td>\n",
              "      <td>2</td>\n",
              "      <td>122</td>\n",
              "    </tr>\n",
              "    <tr>\n",
              "      <th>CS1116</th>\n",
              "      <td>219.0</td>\n",
              "      <td>5</td>\n",
              "      <td>333</td>\n",
              "      <td>4</td>\n",
              "      <td>4</td>\n",
              "      <td>4</td>\n",
              "      <td>444</td>\n",
              "    </tr>\n",
              "  </tbody>\n",
              "</table>\n",
              "</div>"
            ],
            "text/plain": [
              "             recency  frequency  ...  M_Quartile  RFMClass\n",
              "customer_id                      ...                      \n",
              "CS1112          77.0          6  ...           4       344\n",
              "CS1113          51.0         11  ...           2       222\n",
              "CS1114          48.0         11  ...           1       221\n",
              "CS1115          27.0         10  ...           2       122\n",
              "CS1116         219.0          5  ...           4       444\n",
              "\n",
              "[5 rows x 7 columns]"
            ]
          },
          "metadata": {
            "tags": []
          },
          "execution_count": 95
        }
      ]
    },
    {
      "cell_type": "code",
      "metadata": {
        "colab": {
          "base_uri": "https://localhost:8080/",
          "height": 450
        },
        "id": "LO3WWI_sAu1G",
        "outputId": "0797de4a-5046-4bd5-dd7b-970c95210435"
      },
      "source": [
        "# Sắp xếp dữ liệu từ bé đến lớn \n",
        "rfmSeg.sort_values(by=['RFMClass', 'monetary_value'], ascending=[True, False])"
      ],
      "execution_count": null,
      "outputs": [
        {
          "output_type": "execute_result",
          "data": {
            "text/html": [
              "<div>\n",
              "<style scoped>\n",
              "    .dataframe tbody tr th:only-of-type {\n",
              "        vertical-align: middle;\n",
              "    }\n",
              "\n",
              "    .dataframe tbody tr th {\n",
              "        vertical-align: top;\n",
              "    }\n",
              "\n",
              "    .dataframe thead th {\n",
              "        text-align: right;\n",
              "    }\n",
              "</style>\n",
              "<table border=\"1\" class=\"dataframe\">\n",
              "  <thead>\n",
              "    <tr style=\"text-align: right;\">\n",
              "      <th></th>\n",
              "      <th>recency</th>\n",
              "      <th>frequency</th>\n",
              "      <th>monetary_value</th>\n",
              "      <th>R_Quartile</th>\n",
              "      <th>F_Quartile</th>\n",
              "      <th>M_Quartile</th>\n",
              "      <th>RFMClass</th>\n",
              "    </tr>\n",
              "    <tr>\n",
              "      <th>customer_id</th>\n",
              "      <th></th>\n",
              "      <th></th>\n",
              "      <th></th>\n",
              "      <th></th>\n",
              "      <th></th>\n",
              "      <th></th>\n",
              "      <th></th>\n",
              "    </tr>\n",
              "  </thead>\n",
              "  <tbody>\n",
              "    <tr>\n",
              "      <th>CS4640</th>\n",
              "      <td>34.0</td>\n",
              "      <td>21</td>\n",
              "      <td>1610</td>\n",
              "      <td>1</td>\n",
              "      <td>1</td>\n",
              "      <td>1</td>\n",
              "      <td>111</td>\n",
              "    </tr>\n",
              "    <tr>\n",
              "      <th>CS5343</th>\n",
              "      <td>29.0</td>\n",
              "      <td>20</td>\n",
              "      <td>1585</td>\n",
              "      <td>1</td>\n",
              "      <td>1</td>\n",
              "      <td>1</td>\n",
              "      <td>111</td>\n",
              "    </tr>\n",
              "    <tr>\n",
              "      <th>CS3622</th>\n",
              "      <td>29.0</td>\n",
              "      <td>20</td>\n",
              "      <td>1549</td>\n",
              "      <td>1</td>\n",
              "      <td>1</td>\n",
              "      <td>1</td>\n",
              "      <td>111</td>\n",
              "    </tr>\n",
              "    <tr>\n",
              "      <th>CS2316</th>\n",
              "      <td>19.0</td>\n",
              "      <td>21</td>\n",
              "      <td>1446</td>\n",
              "      <td>1</td>\n",
              "      <td>1</td>\n",
              "      <td>1</td>\n",
              "      <td>111</td>\n",
              "    </tr>\n",
              "    <tr>\n",
              "      <th>CS3270</th>\n",
              "      <td>19.0</td>\n",
              "      <td>20</td>\n",
              "      <td>1436</td>\n",
              "      <td>1</td>\n",
              "      <td>1</td>\n",
              "      <td>1</td>\n",
              "      <td>111</td>\n",
              "    </tr>\n",
              "    <tr>\n",
              "      <th>...</th>\n",
              "      <td>...</td>\n",
              "      <td>...</td>\n",
              "      <td>...</td>\n",
              "      <td>...</td>\n",
              "      <td>...</td>\n",
              "      <td>...</td>\n",
              "      <td>...</td>\n",
              "    </tr>\n",
              "    <tr>\n",
              "      <th>CS8033</th>\n",
              "      <td>499.0</td>\n",
              "      <td>1</td>\n",
              "      <td>24</td>\n",
              "      <td>4</td>\n",
              "      <td>4</td>\n",
              "      <td>4</td>\n",
              "      <td>444</td>\n",
              "    </tr>\n",
              "    <tr>\n",
              "      <th>CS8400</th>\n",
              "      <td>462.0</td>\n",
              "      <td>1</td>\n",
              "      <td>19</td>\n",
              "      <td>4</td>\n",
              "      <td>4</td>\n",
              "      <td>4</td>\n",
              "      <td>444</td>\n",
              "    </tr>\n",
              "    <tr>\n",
              "      <th>CS8760</th>\n",
              "      <td>463.0</td>\n",
              "      <td>1</td>\n",
              "      <td>19</td>\n",
              "      <td>4</td>\n",
              "      <td>4</td>\n",
              "      <td>4</td>\n",
              "      <td>444</td>\n",
              "    </tr>\n",
              "    <tr>\n",
              "      <th>CS8740</th>\n",
              "      <td>485.0</td>\n",
              "      <td>1</td>\n",
              "      <td>17</td>\n",
              "      <td>4</td>\n",
              "      <td>4</td>\n",
              "      <td>4</td>\n",
              "      <td>444</td>\n",
              "    </tr>\n",
              "    <tr>\n",
              "      <th>CS7129</th>\n",
              "      <td>398.0</td>\n",
              "      <td>1</td>\n",
              "      <td>14</td>\n",
              "      <td>4</td>\n",
              "      <td>4</td>\n",
              "      <td>4</td>\n",
              "      <td>444</td>\n",
              "    </tr>\n",
              "  </tbody>\n",
              "</table>\n",
              "<p>6884 rows × 7 columns</p>\n",
              "</div>"
            ],
            "text/plain": [
              "             recency  frequency  ...  M_Quartile  RFMClass\n",
              "customer_id                      ...                      \n",
              "CS4640          34.0         21  ...           1       111\n",
              "CS5343          29.0         20  ...           1       111\n",
              "CS3622          29.0         20  ...           1       111\n",
              "CS2316          19.0         21  ...           1       111\n",
              "CS3270          19.0         20  ...           1       111\n",
              "...              ...        ...  ...         ...       ...\n",
              "CS8033         499.0          1  ...           4       444\n",
              "CS8400         462.0          1  ...           4       444\n",
              "CS8760         463.0          1  ...           4       444\n",
              "CS8740         485.0          1  ...           4       444\n",
              "CS7129         398.0          1  ...           4       444\n",
              "\n",
              "[6884 rows x 7 columns]"
            ]
          },
          "metadata": {
            "tags": []
          },
          "execution_count": 96
        }
      ]
    },
    {
      "cell_type": "code",
      "metadata": {
        "colab": {
          "base_uri": "https://localhost:8080/"
        },
        "id": "sCCYTcUZK6k-",
        "outputId": "f906de48-72a7-4d57-c4c6-2d00447eff76"
      },
      "source": [
        "# Group các khách hàng lại với nhau theo 111,112,113,... bằng monetary value\n",
        "rfmSeg.groupby('RFMClass').agg('monetary_value').mean()\n"
      ],
      "execution_count": null,
      "outputs": [
        {
          "output_type": "execute_result",
          "data": {
            "text/plain": [
              "RFMClass\n",
              "111    1001.289963\n",
              "112     740.833333\n",
              "113     521.812500\n",
              "121     843.608696\n",
              "122     713.430712\n",
              "123     490.388889\n",
              "124     365.000000\n",
              "132     651.675000\n",
              "133     508.502890\n",
              "134     317.112903\n",
              "142     601.250000\n",
              "143     466.422078\n",
              "144     267.688312\n",
              "211     993.914489\n",
              "212     739.839286\n",
              "213     523.285714\n",
              "221     853.373134\n",
              "222     706.114173\n",
              "223     477.266667\n",
              "224     346.000000\n",
              "232     661.487013\n",
              "233     509.475904\n",
              "234     332.772727\n",
              "242     616.600000\n",
              "243     464.374150\n",
              "244     258.209559\n",
              "311     982.434174\n",
              "312     738.615385\n",
              "313     528.923077\n",
              "321     834.352113\n",
              "322     711.404255\n",
              "323     489.859375\n",
              "324     335.000000\n",
              "332     655.697368\n",
              "333     512.409524\n",
              "334     326.098039\n",
              "342     605.000000\n",
              "343     465.619318\n",
              "344     247.666667\n",
              "411     960.285714\n",
              "412     746.937500\n",
              "413     501.500000\n",
              "421     831.971429\n",
              "422     712.770115\n",
              "423     479.200000\n",
              "424     350.000000\n",
              "431     816.500000\n",
              "432     652.716312\n",
              "433     513.865169\n",
              "434     324.096154\n",
              "442     609.500000\n",
              "443     461.333333\n",
              "444     230.907975\n",
              "Name: monetary_value, dtype: float64"
            ]
          },
          "metadata": {
            "tags": []
          },
          "execution_count": 97
        }
      ]
    },
    {
      "cell_type": "code",
      "metadata": {
        "colab": {
          "base_uri": "https://localhost:8080/",
          "height": 305
        },
        "id": "uj0iG56pXoad",
        "outputId": "e5a9b9aa-cd2f-4280-aded-6e481cfdf682"
      },
      "source": [
        "# Vẽ biểu đồ \n",
        "rfmSeg.groupby('RFMClass').agg('monetary_value').mean().plot(kind='bar', colormap='Blues_r')"
      ],
      "execution_count": null,
      "outputs": [
        {
          "output_type": "execute_result",
          "data": {
            "text/plain": [
              "<matplotlib.axes._subplots.AxesSubplot at 0x7efd79494610>"
            ]
          },
          "metadata": {
            "tags": []
          },
          "execution_count": 104
        },
        {
          "output_type": "display_data",
          "data": {
            "image/png": "[encoded data removed]",
            "text/plain": [
              "<Figure size 432x288 with 1 Axes>"
            ]
          },
          "metadata": {
            "tags": [],
            "needs_background": "light"
          }
        }
      ]
    },
    {
      "cell_type": "markdown",
      "metadata": {
        "id": "q_6XzG4SYeGb"
      },
      "source": [
        "Em nhận thấy cách này không hay vì biểu đồ của em nhìn chen chút sợ quá thầy ơi nên em làm theo cách 2 ạ "
      ]
    },
    {
      "cell_type": "code",
      "metadata": {
        "id": "GMPd54FzAp0Y"
      },
      "source": [
        "# Cách thứ 2: Để kết hợp các điểm số thành một con số để so sánh em sẽ cộng lại với nhau ví dụ 1 + 1 + 1 =3 như vậy dữ liệu trong trường hợp này sẽ \n",
        "# từ 3 (1 + 1 + 1) đến 12 (4 + 4 + 4)\n",
        "rfmSeg['Total Score'] = rfmSeg['R_Quartile'] + rfmSeg['F_Quartile'] +rfmSeg['M_Quartile']"
      ],
      "execution_count": null,
      "outputs": []
    },
    {
      "cell_type": "code",
      "metadata": {
        "colab": {
          "base_uri": "https://localhost:8080/"
        },
        "id": "3BW9en38LFPe",
        "outputId": "9cb5a010-1222-4c38-e431-8bc26647178b"
      },
      "source": [
        "# Show thông tin cách thứ 2 khi em cộng các điểm số lại với nhau \n",
        "print(rfmSeg.head(), rfmSeg.info())"
      ],
      "execution_count": null,
      "outputs": [
        {
          "output_type": "stream",
          "text": [
            "<class 'pandas.core.frame.DataFrame'>\n",
            "Index: 6884 entries, CS1112 to CS9000\n",
            "Data columns (total 8 columns):\n",
            " #   Column          Non-Null Count  Dtype  \n",
            "---  ------          --------------  -----  \n",
            " 0   recency         6884 non-null   float64\n",
            " 1   frequency       6884 non-null   int64  \n",
            " 2   monetary_value  6884 non-null   int64  \n",
            " 3   R_Quartile      6884 non-null   int64  \n",
            " 4   F_Quartile      6884 non-null   int64  \n",
            " 5   M_Quartile      6884 non-null   int64  \n",
            " 6   RFMClass        6884 non-null   object \n",
            " 7   Total Score     6884 non-null   int64  \n",
            "dtypes: float64(1), int64(6), object(1)\n",
            "memory usage: 484.0+ KB\n",
            "             recency  frequency  ...  RFMClass  Total Score\n",
            "customer_id                      ...                       \n",
            "CS1112          77.0          6  ...       344           11\n",
            "CS1113          51.0         11  ...       222            6\n",
            "CS1114          48.0         11  ...       221            5\n",
            "CS1115          27.0         10  ...       122            5\n",
            "CS1116         219.0          5  ...       444           12\n",
            "\n",
            "[5 rows x 8 columns] None\n"
          ],
          "name": "stdout"
        }
      ]
    },
    {
      "cell_type": "code",
      "metadata": {
        "colab": {
          "base_uri": "https://localhost:8080/"
        },
        "id": "WO7c1G7HGx2w",
        "outputId": "39c041d7-2c3f-4dbb-bf3c-5cba31936380"
      },
      "source": [
        "# Group các khách hàng cùng 1 nhóm lại với nhau bằng Monetary value \n",
        "# Như vậy ở đây em có các group từ 3 đến 12 số lượng group này sẽ ít hơn ở cách 1 \n",
        "rfmSeg.groupby('Total Score').agg('monetary_value').mean()  "
      ],
      "execution_count": null,
      "outputs": [
        {
          "output_type": "execute_result",
          "data": {
            "text/plain": [
              "Total Score\n",
              "3     1001.289963\n",
              "4      952.057621\n",
              "5      849.503277\n",
              "6      741.711462\n",
              "7      629.974101\n",
              "8      557.809645\n",
              "9      447.638221\n",
              "10     385.731672\n",
              "11     335.414443\n",
              "12     230.907975\n",
              "Name: monetary_value, dtype: float64"
            ]
          },
          "metadata": {
            "tags": []
          },
          "execution_count": 100
        }
      ]
    },
    {
      "cell_type": "code",
      "metadata": {
        "colab": {
          "base_uri": "https://localhost:8080/",
          "height": 299
        },
        "id": "sFWUoczoA4vo",
        "outputId": "76b5f8b1-d3f7-4286-8c04-554b15ee8bfe"
      },
      "source": [
        "# vẽ biểu đồ theo Monetary Value \n",
        "rfmSeg.groupby('Total Score').agg('monetary_value').mean().plot(kind='bar', colormap='Blues_r')"
      ],
      "execution_count": null,
      "outputs": [
        {
          "output_type": "execute_result",
          "data": {
            "text/plain": [
              "<matplotlib.axes._subplots.AxesSubplot at 0x7efd79a12990>"
            ]
          },
          "metadata": {
            "tags": []
          },
          "execution_count": 101
        },
        {
          "output_type": "display_data",
          "data": {
            "image/png": "[encoded data removed]",
            "text/plain": [
              "<Figure size 432x288 with 1 Axes>"
            ]
          },
          "metadata": {
            "tags": [],
            "needs_background": "light"
          }
        }
      ]
    },
    {
      "cell_type": "code",
      "metadata": {
        "colab": {
          "base_uri": "https://localhost:8080/"
        },
        "id": "Ux0ZtEwQX66o",
        "outputId": "c1daf736-1d09-45c4-d6d1-7c616503f99d"
      },
      "source": [
        "#Group theo Frequency \n",
        "rfmSeg.groupby('Total Score').agg('frequency').mean()"
      ],
      "execution_count": null,
      "outputs": [
        {
          "output_type": "execute_result",
          "data": {
            "text/plain": [
              "Total Score\n",
              "3     14.122677\n",
              "4     13.486989\n",
              "5     12.233290\n",
              "6     10.885375\n",
              "7      9.648921\n",
              "8      8.742386\n",
              "9      7.427885\n",
              "10     6.689150\n",
              "11     5.952904\n",
              "12     4.684049\n",
              "Name: frequency, dtype: float64"
            ]
          },
          "metadata": {
            "tags": []
          },
          "execution_count": 105
        }
      ]
    },
    {
      "cell_type": "code",
      "metadata": {
        "colab": {
          "base_uri": "https://localhost:8080/",
          "height": 299
        },
        "id": "wuXlcKCtA6w1",
        "outputId": "f3d9fe03-d8c8-4d06-849a-ffde580d5eb3"
      },
      "source": [
        "# Vẽ biểu đồ theo Frequency \n",
        "rfmSeg.groupby('Total Score').agg('frequency').mean().plot(kind='bar', colormap='Blues_r')"
      ],
      "execution_count": null,
      "outputs": [
        {
          "output_type": "execute_result",
          "data": {
            "text/plain": [
              "<matplotlib.axes._subplots.AxesSubplot at 0x7efd795f3110>"
            ]
          },
          "metadata": {
            "tags": []
          },
          "execution_count": 102
        },
        {
          "output_type": "display_data",
          "data": {
            "image/png": "[encoded data removed]",
            "text/plain": [
              "<Figure size 432x288 with 1 Axes>"
            ]
          },
          "metadata": {
            "tags": [],
            "needs_background": "light"
          }
        }
      ]
    },
    {
      "cell_type": "code",
      "metadata": {
        "colab": {
          "base_uri": "https://localhost:8080/"
        },
        "id": "0TEyvz4yYFtx",
        "outputId": "8b0cc684-74c8-4a31-ed93-7cf38c369baf"
      },
      "source": [
        "# Group nhóm theo Recency \n",
        "rfmSeg.groupby('Total Score').agg('recency').mean()"
      ],
      "execution_count": null,
      "outputs": [
        {
          "output_type": "execute_result",
          "data": {
            "text/plain": [
              "Total Score\n",
              "3      25.949814\n",
              "4      46.193309\n",
              "5      62.499345\n",
              "6      76.351779\n",
              "7      68.966906\n",
              "8      86.666244\n",
              "9      89.254808\n",
              "10    105.727273\n",
              "11    146.660911\n",
              "12    246.274540\n",
              "Name: recency, dtype: float64"
            ]
          },
          "metadata": {
            "tags": []
          },
          "execution_count": 106
        }
      ]
    },
    {
      "cell_type": "code",
      "metadata": {
        "colab": {
          "base_uri": "https://localhost:8080/",
          "height": 299
        },
        "id": "UMrzV7oALR0s",
        "outputId": "d5ad7b6c-34f5-45b2-a337-747b4be9a208"
      },
      "source": [
        "# Vẽ biểu đồ theo Recency\n",
        "rfmSeg.groupby('Total Score').agg('recency').mean().plot(kind='bar', colormap='Blues_r')"
      ],
      "execution_count": null,
      "outputs": [
        {
          "output_type": "execute_result",
          "data": {
            "text/plain": [
              "<matplotlib.axes._subplots.AxesSubplot at 0x7efd794f87d0>"
            ]
          },
          "metadata": {
            "tags": []
          },
          "execution_count": 103
        },
        {
          "output_type": "display_data",
          "data": {
            "image/png": "[encoded data removed]",
            "text/plain": [
              "<Figure size 432x288 with 1 Axes>"
            ]
          },
          "metadata": {
            "tags": [],
            "needs_background": "light"
          }
        }
      ]
    }
  ]
}